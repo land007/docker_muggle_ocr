{
 "cells": [
  {
   "cell_type": "code",
   "execution_count": 2,
   "metadata": {},
   "outputs": [
    {
     "name": "stdout",
     "output_type": "stream",
     "text": [
      "MuggleOCR Session [captcha] Loaded.\n",
      "check.jpg 1854 0.028827667236328125\n",
      "check (3).jpg 2236 0.021879911422729492\n",
      "check (1).jpg 9649 0.023602724075317383\n",
      "check (2).jpg 9738 0.02016472816467285\n"
     ]
    }
   ],
   "source": [
    "import time\n",
    "# STEP 1\n",
    "import muggle_ocr\n",
    "import os\n",
    "# STEP 2\n",
    "#sdk = muggle_ocr.SDK(model_type=muggle_ocr.ModelType.OCR)\n",
    "sdk = muggle_ocr.SDK(model_type=muggle_ocr.ModelType.Captcha)\n",
    "root_dir = r\"./imgs\"\n",
    "for i in os.listdir(root_dir):\n",
    "    n = os.path.join(root_dir, i)\n",
    "    with open(n, \"rb\") as f:\n",
    "        b = f.read()\n",
    "    st = time.time()\n",
    "    # STEP 3\n",
    "    text = sdk.predict(image_bytes=b)\n",
    "    print(i, text, time.time() - st)"
   ]
  },
  {
   "cell_type": "code",
   "execution_count": null,
   "metadata": {},
   "outputs": [],
   "source": []
  },
  {
   "cell_type": "code",
   "execution_count": null,
   "metadata": {},
   "outputs": [],
   "source": []
  }
 ],
 "metadata": {
  "kernelspec": {
   "display_name": "Python 3",
   "language": "python",
   "name": "python3"
  },
  "language_info": {
   "codemirror_mode": {
    "name": "ipython",
    "version": 3
   },
   "file_extension": ".py",
   "mimetype": "text/x-python",
   "name": "python",
   "nbconvert_exporter": "python",
   "pygments_lexer": "ipython3",
   "version": "3.6.9"
  }
 },
 "nbformat": 4,
 "nbformat_minor": 4
}
